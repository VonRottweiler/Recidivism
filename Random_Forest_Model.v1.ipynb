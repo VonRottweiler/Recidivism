{
  "nbformat": 4,
  "nbformat_minor": 0,
  "metadata": {
    "colab": {
      "provenance": [],
      "authorship_tag": "ABX9TyPX7B/XibkyseiE4Y+K8bb8",
      "include_colab_link": true
    },
    "kernelspec": {
      "name": "python3",
      "display_name": "Python 3"
    },
    "language_info": {
      "name": "python"
    }
  },
  "cells": [
    {
      "cell_type": "markdown",
      "metadata": {
        "id": "view-in-github",
        "colab_type": "text"
      },
      "source": [
        "<a href=\"https://colab.research.google.com/github/VonRottweiler/Recidivism/blob/main/Random_Forest_Model.v1.ipynb\" target=\"_parent\"><img src=\"https://colab.research.google.com/assets/colab-badge.svg\" alt=\"Open In Colab\"/></a>"
      ]
    },
    {
      "cell_type": "code",
      "execution_count": null,
      "metadata": {
        "id": "YyorwBQVlhA9"
      },
      "outputs": [],
      "source": [
        "import pandas as pd\n",
        "import numpy as np\n",
        "import sklearn\n",
        "from sklearn.linear_model import LogisticRegression\n",
        "from sklearn.model_selection import train_test_split\n",
        "from sklearn.ensemble import RandomForestClassifier\n",
        "\n",
        "test = pd.read_csv('test.csv')\n",
        "\n",
        "data = pd.read_csv('train.csv')\n",
        "\n",
        "from sklearn.impute import SimpleImputer\n",
        "mean = SimpleImputer(strategy='mean')\n",
        "mode = SimpleImputer(strategy='most_frequent')\n",
        "\n",
        "from sklearn.preprocessing import LabelEncoder\n",
        "le = LabelEncoder()\n",
        "\n",
        "col = 0\n",
        "for col in range(1, len(data.columns)):\n",
        "  if (data[[data.columns[col]][0]].dtypes) == object:\n",
        "    mode.fit(data[[data.columns[col]]])\n",
        "    data[[data.columns[col]]] = mode.transform(data[[data.columns[col]]])\n",
        "    data[data.columns[col]] = le.fit_transform(data[data.columns[col]])\n",
        "  elif (data[[data.columns[col]][0]].dtypes) == float:\n",
        "    mean.fit(data[[data.columns[col]]])\n",
        "    data[[data.columns[col]]] = mean.transform(data[[data.columns[col]]])\n",
        "\n",
        "col = 0\n",
        "for col in range(1, len(test.columns)):\n",
        "  if (test[[test.columns[col]][0]].dtypes) == object:\n",
        "    mode.fit(test[[test.columns[col]]])\n",
        "    test[[test.columns[col]]] = mode.transform(test[[test.columns[col]]])\n",
        "    test[test.columns[col]] = le.fit_transform(test[test.columns[col]])\n",
        "  elif (test[[test.columns[col]][0]].dtypes) == float:\n",
        "    mean.fit(test[[test.columns[col]]])\n",
        "    test[[test.columns[col]]] = mean.transform(test[[test.columns[col]]])"
      ]
    },
    {
      "cell_type": "markdown",
      "source": [
        "Random Forest Training and Model Testing"
      ],
      "metadata": {
        "id": "QayEr0lMltgX"
      }
    },
    {
      "cell_type": "code",
      "source": [
        "from sklearn.model_selection import train_test_split\n",
        "from sklearn.ensemble import RandomForestClassifier\n",
        "import sklearn\n",
        "\n",
        "train1, train2 = train_test_split(data, test_size=0.33, random_state=42)\n",
        "\n",
        "rfmodel = RandomForestClassifier(n_estimators=500, random_state=0)\n",
        "rfmodel.fit(train1.drop('Recidivism_Arrest', axis=1), \n",
        " train1['Recidivism_Arrest'])\n",
        "\n",
        "rf_prediction=rfmodel.predict(train2[drop('Recidivism_Arrest', axis=1)\n",
        "sklearn.metrics.accuracy_score(train2['Recidivism_Arrest'],rf_prediction)"
      ],
      "metadata": {
        "id": "0xnOzXEDljDG"
      },
      "execution_count": null,
      "outputs": []
    },
    {
      "cell_type": "markdown",
      "source": [
        "Random Forest Test Data Predictions"
      ],
      "metadata": {
        "id": "n7p34weyl6ln"
      }
    },
    {
      "cell_type": "code",
      "source": [
        "rfmodel = RandomForestClassifier(n_estimators=500, random_state=0)\n",
        "rfmodel.fit(data.drop('Recidivism_Arrest', axis=1), data['Recidivism_Arrest'])\n",
        "\n",
        "test_prediction=rfmodel.predict(test.drop('Recidivism_Arrest', axis=1))\n",
        "test['Recidivism_Arrest']=test_prediction\n",
        "#test[['ID','Recidivism_Arrest']].to_csv('submission.random_forest.csv',index=False)"
      ],
      "metadata": {
        "id": "TACxgFHwlkPy"
      },
      "execution_count": null,
      "outputs": []
    },
    {
      "cell_type": "code",
      "source": [
        "#from google.colab import drive\n",
        "#drive.mount('/content/drive')"
      ],
      "metadata": {
        "id": "fL1pa08Pl47u"
      },
      "execution_count": null,
      "outputs": []
    }
  ]
}