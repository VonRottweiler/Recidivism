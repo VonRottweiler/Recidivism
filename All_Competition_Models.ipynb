{
  "nbformat": 4,
  "nbformat_minor": 0,
  "metadata": {
    "colab": {
      "provenance": [],
      "authorship_tag": "ABX9TyMCs18jy3O34IW+Px8QtI8p",
      "include_colab_link": true
    },
    "kernelspec": {
      "name": "python3",
      "display_name": "Python 3"
    },
    "language_info": {
      "name": "python"
    }
  },
  "cells": [
    {
      "cell_type": "markdown",
      "metadata": {
        "id": "view-in-github",
        "colab_type": "text"
      },
      "source": [
        "<a href=\"https://colab.research.google.com/github/VonRottweiler/Recidivism/blob/main/All_Competition_Models.ipynb\" target=\"_parent\"><img src=\"https://colab.research.google.com/assets/colab-badge.svg\" alt=\"Open In Colab\"/></a>"
      ]
    },
    {
      "cell_type": "markdown",
      "source": [
        "Random Forest"
      ],
      "metadata": {
        "id": "JB_UCoEqaNgi"
      }
    },
    {
      "cell_type": "code",
      "execution_count": null,
      "metadata": {
        "id": "ZMQ-irodXBZh"
      },
      "outputs": [],
      "source": [
        "import pandas as pd\n",
        "import numpy as np\n",
        "import sklearn\n",
        "from sklearn.linear_model import LogisticRegression\n",
        "from sklearn.model_selection import train_test_split\n",
        "from sklearn.ensemble import RandomForestClassifier\n",
        "\n",
        "test = pd.read_csv('test.csv')\n",
        "\n",
        "data = pd.read_csv('train.csv')"
      ]
    },
    {
      "cell_type": "code",
      "source": [
        "from sklearn.impute import SimpleImputer\n",
        "mean = SimpleImputer(strategy='mean')\n",
        "mode = SimpleImputer(strategy='most_frequent')\n",
        "\n",
        "from sklearn.preprocessing import LabelEncoder\n",
        "le = LabelEncoder()"
      ],
      "metadata": {
        "id": "lrzi298xaxqd"
      },
      "execution_count": null,
      "outputs": []
    },
    {
      "cell_type": "code",
      "source": [
        "col = 0\n",
        "for col in range(1, len(data.columns)):\n",
        "  if (data[[data.columns[col]][0]].dtypes) == object:\n",
        "    mode.fit(data[[data.columns[col]]])\n",
        "    data[[data.columns[col]]] = mode.transform(data[[data.columns[col]]])\n",
        "    data[data.columns[col]] = le.fit_transform(data[data.columns[col]])\n",
        "  elif (data[[data.columns[col]][0]].dtypes) == float:\n",
        "    mean.fit(data[[data.columns[col]]])\n",
        "    data[[data.columns[col]]] = mean.transform(data[[data.columns[col]]])\n",
        "#data.head(16)"
      ],
      "metadata": {
        "id": "vteJQwEKa8QR"
      },
      "execution_count": null,
      "outputs": []
    },
    {
      "cell_type": "code",
      "source": [
        "col = 0\n",
        "for col in range(1, len(test.columns)):\n",
        "  if (test[[test.columns[col]][0]].dtypes) == object:\n",
        "    mode.fit(test[[test.columns[col]]])\n",
        "    test[[test.columns[col]]] = mode.transform(test[[test.columns[col]]])\n",
        "    test[test.columns[col]] = le.fit_transform(test[test.columns[col]])\n",
        "  elif (test[[test.columns[col]][0]].dtypes) == float:\n",
        "    mean.fit(test[[test.columns[col]]])\n",
        "    test[[test.columns[col]]] = mean.transform(test[[test.columns[col]]])"
      ],
      "metadata": {
        "id": "AiRYoS_ddTzH"
      },
      "execution_count": null,
      "outputs": []
    },
    {
      "cell_type": "code",
      "source": [
        "from sklearn.model_selection import train_test_split\n",
        "from sklearn.ensemble import RandomForestClassifier\n",
        "import sklearn\n",
        "\n",
        "train1, train2 = train_test_split(data, test_size=0.33, random_state=42)\n",
        "\n",
        "rfmodel = RandomForestClassifier(n_estimators=500, random_state=0)\n",
        "rfmodel.fit(train1.drop('Recidivism_Arrest', axis=1), \n",
        " train1['Recidivism_Arrest'])\n",
        "\n",
        "rf_prediction=rfmodel.predict(train2[drop('Recidivism_Arrest', axis=1)\n",
        "sklearn.metrics.accuracy_score(train2['Recidivism_Arrest'],rf_prediction)"
      ],
      "metadata": {
        "colab": {
          "base_uri": "https://localhost:8080/"
        },
        "id": "EQXrpdSPb4cd",
        "outputId": "2700765b-9eae-4b9d-a755-c24dd535ac2e"
      },
      "execution_count": null,
      "outputs": [
        {
          "output_type": "execute_result",
          "data": {
            "text/plain": [
              "0.6636696636696636"
            ]
          },
          "metadata": {},
          "execution_count": 23
        }
      ]
    },
    {
      "cell_type": "code",
      "source": [
        "rfmodel = RandomForestClassifier(n_estimators=500, random_state=0)\n",
        "rfmodel.fit(data.drop('Recidivism_Arrest', axis=1), data['Recidivism_Arrest'])\n",
        "\n",
        "test_prediction=rfmodel.predict(test.drop('Recidivism_Arrest', axis=1))\n",
        "test['Recidivism_Arrest']=test_prediction\n",
        "#test[['ID','Recidivism_Arrest']].to_csv('submission.random_forest.csv',index=False)"
      ],
      "metadata": {
        "id": "COo2T-dNcy_P"
      },
      "execution_count": null,
      "outputs": []
    },
    {
      "cell_type": "code",
      "source": [
        "#from google.colab import drive\n",
        "#drive.mount('/content/drive')"
      ],
      "metadata": {
        "colab": {
          "base_uri": "https://localhost:8080/"
        },
        "id": "Zl65DgsYcwda",
        "outputId": "7e291f3a-023f-4d04-b2f5-21eaf77eb119"
      },
      "execution_count": null,
      "outputs": [
        {
          "output_type": "stream",
          "name": "stdout",
          "text": [
            "Mounted at /content/drive\n"
          ]
        }
      ]
    },
    {
      "cell_type": "markdown",
      "source": [
        "Gradient Boosting Training"
      ],
      "metadata": {
        "id": "5Kf4uqQDpT5a"
      }
    },
    {
      "cell_type": "code",
      "source": [
        "from sklearn.ensemble import GradientBoostingClassifier\n",
        "\n",
        "train1, train2 = train_test_split(data, test_size=0.33, random_state=42)\n",
        "\n",
        "acc=0\n",
        "n_estimators=200\n",
        "learning_rate=.3\n",
        "max_depth=10\n",
        "gbmodel = GradientBoostingClassifier(n_estimators=n_estimators, learning_rate=learning_rate,max_depth=max_depth, random_state=42).fit(train1.drop('Recidivism_Arrest', axis=1), train1['Recidivism_Arrest'])\n",
        "\n",
        "gb_prediction=gbmodel.predict(train2.drop('Recidivism_Arrest', axis=1))\n",
        "acc_temp=sklearn.metrics.accuracy_score(train2['Recidivism_Arrest'], gb_prediction)\n",
        "\"\"\"if(acc_temp>acc):\n",
        "    acc=acc_temp\n",
        "    print([n_estimators,learning_rate,max_depth,acc])\"\"\"\n",
        "print([n_estimators,learning_rate,max_depth,acc_temp])"
      ],
      "metadata": {
        "colab": {
          "base_uri": "https://localhost:8080/"
        },
        "id": "UrPZ76tur_6d",
        "outputId": "14e01073-0d97-4247-bc32-74387d7cec89"
      },
      "execution_count": null,
      "outputs": [
        {
          "metadata": {
            "tags": null
          },
          "name": "stdout",
          "output_type": "stream",
          "text": [
            "[200, 0.3, 10, 0.6693306693306693]\n"
          ]
        }
      ]
    },
    {
      "cell_type": "markdown",
      "source": [
        "Gradient Boosting Test\n"
      ],
      "metadata": {
        "id": "HzQgjy7msIqx"
      }
    },
    {
      "cell_type": "code",
      "source": [
        "from sklearn.ensemble import GradientBoostingClassifier\n",
        "gbmodel = GradientBoostingClassifier(n_estimators=200, learning_rate=.3,max_depth=10, random_state=0).fit(data.drop('Recidivism_Arrest', axis = 1), data['Recidivism_Arrest'])\n",
        "\n",
        "gb_prediction=gbmodel.predict(test)\n",
        "test['Recidivism_Arrest']=gb_prediction\n",
        "test[['ID','Recidivism_Arrest']].to_csv('submission.boosting.csv',index=False)\n"
      ],
      "metadata": {
        "id": "wPeyhAnSpVmy"
      },
      "execution_count": null,
      "outputs": []
    },
    {
      "cell_type": "code",
      "source": [
        "from google.colab import drive\n",
        "drive.mount('/content/drive')"
      ],
      "metadata": {
        "colab": {
          "base_uri": "https://localhost:8080/"
        },
        "id": "AveFrzYKp8s5",
        "outputId": "8dc052b5-da17-4c52-aaa5-a6821db37b2d"
      },
      "execution_count": null,
      "outputs": [
        {
          "output_type": "stream",
          "name": "stdout",
          "text": [
            "Drive already mounted at /content/drive; to attempt to forcibly remount, call drive.mount(\"/content/drive\", force_remount=True).\n"
          ]
        }
      ]
    },
    {
      "cell_type": "markdown",
      "source": [
        "GxBoosting Training"
      ],
      "metadata": {
        "id": "0NwF0PBbWljs"
      }
    },
    {
      "cell_type": "code",
      "source": [
        "import xgboost as xgb\n",
        "from sklearn.model_selection import train_test_split\n",
        "from sklearn.metrics import accuracy_score\n",
        "\n",
        "X_train, X_test, y_train, y_test = train_test_split(data.drop('Recidivism_Arrest', axis=1), data['Recidivism_Arrest'], test_size=0.2, random_state=42)\n",
        "\n",
        "# Define the XGBoost model and set hyperparameters\n",
        "acc = 0\n",
        "eval_set = [(X_test, y_test)]\n",
        "for n_estimators in [100,200,300,400,500]: # these are just examples, need to expand this list in practice\n",
        "  for learning_rate in [.1,.2,.3,.4,.5]:\n",
        "    for max_depth in [1,2,3,4,5]:\n",
        "      model = xgb.XGBClassifier(objective='binary:logistic', learning_rate=learning_rate, max_depth=max_depth, n_estimators=n_estimators, subsample=0.8, colsample_bytree=0.8, seed=42, eval_metric=\"logloss\")\n",
        "      model.fit(X_train, y_train, eval_set=eval_set, verbose=False)\n",
        "\n",
        "      y_pred = model.predict(X_test)\n",
        "      acc_temp=sklearn.metrics.accuracy_score(y_test,y_pred)\n",
        "      if(acc_temp>acc):\n",
        "        acc=acc_temp\n",
        "        print('Accuracy: {:.4f}'.format(accuracy_score(y_test, y_pred)))\n",
        "        print([n_estimators,learning_rate,max_depth,acc])"
      ],
      "metadata": {
        "colab": {
          "base_uri": "https://localhost:8080/"
        },
        "id": "VqTMFyN5UVNK",
        "outputId": "b64486b8-ff55-4c3b-b558-69070ca9b517"
      },
      "execution_count": null,
      "outputs": [
        {
          "output_type": "stream",
          "name": "stdout",
          "text": [
            "Accuracy: 0.6538\n",
            "[100, 0.1, 1, 0.6538461538461539]\n",
            "Accuracy: 0.6676\n",
            "[100, 0.1, 2, 0.6675824175824175]\n",
            "Accuracy: 0.6758\n",
            "[100, 0.1, 3, 0.6758241758241759]\n",
            "Accuracy: 0.6797\n",
            "[100, 0.1, 4, 0.6796703296703297]\n",
            "Accuracy: 0.6808\n",
            "[100, 0.2, 3, 0.6807692307692308]\n",
            "Accuracy: 0.6852\n",
            "[100, 0.2, 4, 0.6851648351648352]\n",
            "Accuracy: 0.6874\n",
            "[200, 0.1, 4, 0.6873626373626374]\n",
            "Accuracy: 0.6907\n",
            "[500, 0.1, 4, 0.6906593406593406]\n"
          ]
        }
      ]
    },
    {
      "cell_type": "markdown",
      "source": [
        "GxBoosting Testing"
      ],
      "metadata": {
        "id": "ucOSdl5Ufw2W"
      }
    },
    {
      "cell_type": "code",
      "source": [
        "xgmodel = xgb.XGBClassifier(objective='binary:logistic', learning_rate=.1, max_depth=4, n_estimators=500, subsample=0.8, colsample_bytree=0.8, seed=42, eval_metric=\"logloss\")\n",
        "xgmodel.fit((data.drop('Recidivism_Arrest', axis=1)), data['Recidivism_Arrest'], verbose=False)\n",
        "\n",
        "y_pred = xgmodel.predict(test)\n",
        "test['Recidivism_Arrest']=y_pred\n",
        "test[['ID','Recidivism_Arrest']].to_csv('submission.gxboosting.csv',index=False)"
      ],
      "metadata": {
        "id": "6cTm0HiLd-R7"
      },
      "execution_count": null,
      "outputs": []
    },
    {
      "cell_type": "code",
      "source": [
        "from google.colab import drive\n",
        "drive.mount('/content/drive')"
      ],
      "metadata": {
        "colab": {
          "base_uri": "https://localhost:8080/"
        },
        "id": "r3cDq953hYTO",
        "outputId": "7c13f95f-25fa-4206-841b-baf612e21543"
      },
      "execution_count": null,
      "outputs": [
        {
          "output_type": "stream",
          "name": "stdout",
          "text": [
            "Mounted at /content/drive\n"
          ]
        }
      ]
    },
    {
      "cell_type": "markdown",
      "source": [
        "Convolution Nueral Network"
      ],
      "metadata": {
        "id": "XxXEdmyvfMj9"
      }
    },
    {
      "cell_type": "code",
      "source": [
        "import tensorflow as tf\n",
        "from tensorflow import keras\n",
        "from keras import datasets, layers, models\n",
        "import matplotlib.pyplot as plt\n",
        "import numpy as np\n",
        "\n",
        "from sklearn.model_selection import train_test_split\n",
        "from keras.models import Sequential\n",
        "from keras.layers import Conv2D, MaxPooling2D, Flatten, Dense\n",
        "\n",
        "from keras.utils import to_categorical"
      ],
      "metadata": {
        "id": "Yg_ifkE8dJ-u"
      },
      "execution_count": null,
      "outputs": []
    },
    {
      "cell_type": "code",
      "source": [
        "#train1, train2 = train_test_split(data, test_size=0.33, random_state=42)"
      ],
      "metadata": {
        "id": "PVcJUzxzM23k"
      },
      "execution_count": null,
      "outputs": []
    },
    {
      "cell_type": "code",
      "source": [
        "features = data.drop('Recidivism_Arrest', axis=1).values\n",
        "labels = data['Recidivism_Arrest'].values\n",
        "\n",
        "features = features.reshape((9100, 48, 1))\n",
        "features = features.astype('float32') / 255\n",
        "labels = labels.reshape((9100, 1))\n",
        "labels = labels.astype('float32') / 255\n",
        "\n",
        "X_train, X_test, y_train, y_test= train_test_split(features, labels, test_size=0.2, random_state=42)"
      ],
      "metadata": {
        "id": "rvOZEn4nQbvu"
      },
      "execution_count": null,
      "outputs": []
    },
    {
      "cell_type": "code",
      "source": [
        "from keras import models\n",
        "from keras import layers\n",
        "\n",
        "model2 = models.Sequential([\n",
        "  layers.Conv1D(32, 3, activation='relu', input_shape=(48,1)),\n",
        "  layers.MaxPooling1D(2),\n",
        "  layers.Conv1D(64, 3, activation='relu'),\n",
        "  layers.MaxPooling1D(2),\n",
        "  layers.Conv1D(64, 3, activation='relu'),\n",
        "  layers.Flatten(),\n",
        "  layers.Dense(64, activation='relu'),\n",
        "  tf.keras.layers.BatchNormalization(),\n",
        "  layers.Dense(64, activation='relu'),\n",
        "  tf.keras.layers.BatchNormalization(),\n",
        "  layers.Dense(10)\n",
        "])"
      ],
      "metadata": {
        "id": "X-tU_bNxMUfU"
      },
      "execution_count": null,
      "outputs": []
    },
    {
      "cell_type": "code",
      "source": [
        "model2.compile(optimizer='adam',\n",
        "              loss=tf.keras.losses.SparseCategoricalCrossentropy(from_logits=True),\n",
        "              metrics=['accuracy'])"
      ],
      "metadata": {
        "id": "SYpFkdbZMcGi"
      },
      "execution_count": null,
      "outputs": []
    },
    {
      "cell_type": "code",
      "source": [
        "model2.fit(X_train, y_train, epochs=10, batch_size = 128, validation_data=(X_test, y_test))"
      ],
      "metadata": {
        "colab": {
          "base_uri": "https://localhost:8080/"
        },
        "id": "7o-4Kb8_McjY",
        "outputId": "5dffaed6-f748-4d37-9311-ca296dd8339d"
      },
      "execution_count": null,
      "outputs": [
        {
          "output_type": "stream",
          "name": "stdout",
          "text": [
            "Epoch 1/10\n",
            "57/57 [==============================] - 2s 33ms/step - loss: 0.1002 - accuracy: 0.6015 - val_loss: 0.0535 - val_accuracy: 0.5962\n",
            "Epoch 2/10\n",
            "57/57 [==============================] - 2s 27ms/step - loss: 0.0455 - accuracy: 0.6015 - val_loss: 0.0282 - val_accuracy: 0.5962\n",
            "Epoch 3/10\n",
            "57/57 [==============================] - 1s 20ms/step - loss: 0.0270 - accuracy: 0.6015 - val_loss: 0.0179 - val_accuracy: 0.5962\n",
            "Epoch 4/10\n",
            "57/57 [==============================] - 1s 20ms/step - loss: 0.0181 - accuracy: 0.6015 - val_loss: 0.0131 - val_accuracy: 0.5962\n",
            "Epoch 5/10\n",
            "57/57 [==============================] - 2s 33ms/step - loss: 0.0131 - accuracy: 0.6015 - val_loss: 0.0101 - val_accuracy: 0.5962\n",
            "Epoch 6/10\n",
            "57/57 [==============================] - 2s 33ms/step - loss: 0.0100 - accuracy: 0.6015 - val_loss: 0.0079 - val_accuracy: 0.5962\n",
            "Epoch 7/10\n",
            "57/57 [==============================] - 1s 19ms/step - loss: 0.0079 - accuracy: 0.6015 - val_loss: 0.0066 - val_accuracy: 0.5962\n",
            "Epoch 8/10\n",
            "57/57 [==============================] - 1s 20ms/step - loss: 0.0064 - accuracy: 0.6015 - val_loss: 0.0055 - val_accuracy: 0.5962\n",
            "Epoch 9/10\n",
            "57/57 [==============================] - 1s 20ms/step - loss: 0.0053 - accuracy: 0.6015 - val_loss: 0.0046 - val_accuracy: 0.5962\n",
            "Epoch 10/10\n",
            "57/57 [==============================] - 2s 32ms/step - loss: 0.0045 - accuracy: 0.6015 - val_loss: 0.0040 - val_accuracy: 0.5962\n"
          ]
        },
        {
          "output_type": "execute_result",
          "data": {
            "text/plain": [
              "<keras.callbacks.History at 0x7f3c8ce0ebc0>"
            ]
          },
          "metadata": {},
          "execution_count": 68
        }
      ]
    },
    {
      "cell_type": "code",
      "source": [
        "test_loss, test_acc = model2.evaluate(X_test, y_test)\n",
        "print(f\"The accuracy of the Convolutional Neural Network is: {test_acc}\")"
      ],
      "metadata": {
        "colab": {
          "base_uri": "https://localhost:8080/"
        },
        "id": "iS65JeXaOZtP",
        "outputId": "a0a3e7b6-1d7a-4663-fbd0-80d49a4f154e"
      },
      "execution_count": null,
      "outputs": [
        {
          "output_type": "stream",
          "name": "stdout",
          "text": [
            "57/57 [==============================] - 0s 3ms/step - loss: 0.0013 - accuracy: 0.5962\n",
            "The accuracy of the Convolutional Neural Network is: 0.5961538553237915\n"
          ]
        }
      ]
    }
  ]
}