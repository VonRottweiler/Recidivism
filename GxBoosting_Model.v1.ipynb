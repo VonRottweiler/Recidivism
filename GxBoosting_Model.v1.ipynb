{
  "nbformat": 4,
  "nbformat_minor": 0,
  "metadata": {
    "colab": {
      "provenance": [],
      "authorship_tag": "ABX9TyOL+SbOuQ1FA2AyUObSpTuH",
      "include_colab_link": true
    },
    "kernelspec": {
      "name": "python3",
      "display_name": "Python 3"
    },
    "language_info": {
      "name": "python"
    }
  },
  "cells": [
    {
      "cell_type": "markdown",
      "metadata": {
        "id": "view-in-github",
        "colab_type": "text"
      },
      "source": [
        "<a href=\"https://colab.research.google.com/github/VonRottweiler/Recidivism/blob/main/GxBoosting_Model.v1.ipynb\" target=\"_parent\"><img src=\"https://colab.research.google.com/assets/colab-badge.svg\" alt=\"Open In Colab\"/></a>"
      ]
    },
    {
      "cell_type": "code",
      "source": [
        "import pandas as pd\n",
        "import numpy as np\n",
        "import sklearn\n",
        "from sklearn.linear_model import LogisticRegression\n",
        "from sklearn.model_selection import train_test_split\n",
        "from sklearn.ensemble import RandomForestClassifier\n",
        "\n",
        "test = pd.read_csv('test.csv')\n",
        "\n",
        "data = pd.read_csv('train.csv')\n",
        "\n",
        "from sklearn.impute import SimpleImputer\n",
        "mean = SimpleImputer(strategy='mean')\n",
        "mode = SimpleImputer(strategy='most_frequent')\n",
        "\n",
        "from sklearn.preprocessing import LabelEncoder\n",
        "le = LabelEncoder()\n",
        "\n",
        "col = 0\n",
        "for col in range(1, len(data.columns)):\n",
        "  if (data[[data.columns[col]][0]].dtypes) == object:\n",
        "    mode.fit(data[[data.columns[col]]])\n",
        "    data[[data.columns[col]]] = mode.transform(data[[data.columns[col]]])\n",
        "    data[data.columns[col]] = le.fit_transform(data[data.columns[col]])\n",
        "  elif (data[[data.columns[col]][0]].dtypes) == float:\n",
        "    mean.fit(data[[data.columns[col]]])\n",
        "    data[[data.columns[col]]] = mean.transform(data[[data.columns[col]]])\n",
        "\n",
        "col = 0\n",
        "for col in range(1, len(test.columns)):\n",
        "  if (test[[test.columns[col]][0]].dtypes) == object:\n",
        "    mode.fit(test[[test.columns[col]]])\n",
        "    test[[test.columns[col]]] = mode.transform(test[[test.columns[col]]])\n",
        "    test[test.columns[col]] = le.fit_transform(test[test.columns[col]])\n",
        "  elif (test[[test.columns[col]][0]].dtypes) == float:\n",
        "    mean.fit(test[[test.columns[col]]])\n",
        "    test[[test.columns[col]]] = mean.transform(test[[test.columns[col]]])"
      ],
      "metadata": {
        "id": "I9qqKVYfm0KC"
      },
      "execution_count": null,
      "outputs": []
    },
    {
      "cell_type": "markdown",
      "source": [
        "GxBoosting Training and Model Testing"
      ],
      "metadata": {
        "id": "KkYrebG3m2yJ"
      }
    },
    {
      "cell_type": "code",
      "execution_count": null,
      "metadata": {
        "id": "f7-nrnjhmxsu"
      },
      "outputs": [],
      "source": [
        "import xgboost as xgb\n",
        "from sklearn.model_selection import train_test_split\n",
        "from sklearn.metrics import accuracy_score\n",
        "\n",
        "X_train, X_test, y_train, y_test = train_test_split(data.drop('Recidivism_Arrest', axis=1), data['Recidivism_Arrest'], test_size=0.2, random_state=42)\n",
        "\n",
        "# Define the XGBoost model and set hyperparameters\n",
        "acc = 0\n",
        "eval_set = [(X_test, y_test)]\n",
        "for n_estimators in [100,200,300,400,500]: # these are just examples, need to expand this list in practice\n",
        "  for learning_rate in [.1,.2,.3,.4,.5]:\n",
        "    for max_depth in [1,2,3,4,5]:\n",
        "      model = xgb.XGBClassifier(objective='binary:logistic', learning_rate=learning_rate, max_depth=max_depth, n_estimators=n_estimators, subsample=0.8, colsample_bytree=0.8, seed=42, eval_metric=\"logloss\")\n",
        "      model.fit(X_train, y_train, eval_set=eval_set, verbose=False)\n",
        "\n",
        "      y_pred = model.predict(X_test)\n",
        "      acc_temp=sklearn.metrics.accuracy_score(y_test,y_pred)\n",
        "      if(acc_temp>acc):\n",
        "        acc=acc_temp\n",
        "        print('Accuracy: {:.4f}'.format(accuracy_score(y_test, y_pred)))\n",
        "        print([n_estimators,learning_rate,max_depth,acc])"
      ]
    },
    {
      "cell_type": "markdown",
      "source": [
        "GxBoosting Test Data Predictions"
      ],
      "metadata": {
        "id": "Cq3k_miGm7Yo"
      }
    },
    {
      "cell_type": "code",
      "source": [
        "xgmodel = xgb.XGBClassifier(objective='binary:logistic', learning_rate=.1, max_depth=4, n_estimators=500, subsample=0.8, colsample_bytree=0.8, seed=42, eval_metric=\"logloss\")\n",
        "xgmodel.fit((data.drop('Recidivism_Arrest', axis=1)), data['Recidivism_Arrest'], verbose=False)\n",
        "\n",
        "y_pred = xgmodel.predict(test)\n",
        "test['Recidivism_Arrest']=y_pred\n",
        "test[['ID','Recidivism_Arrest']].to_csv('submission.gxboosting.csv',index=False)"
      ],
      "metadata": {
        "id": "HvswvkgWnBw6"
      },
      "execution_count": null,
      "outputs": []
    },
    {
      "cell_type": "code",
      "source": [
        "from google.colab import drive\n",
        "drive.mount('/content/drive')"
      ],
      "metadata": {
        "id": "SDYCKxwRnD6z"
      },
      "execution_count": null,
      "outputs": []
    }
  ]
}