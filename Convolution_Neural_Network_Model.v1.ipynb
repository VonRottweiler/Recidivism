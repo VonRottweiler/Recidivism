{
  "nbformat": 4,
  "nbformat_minor": 0,
  "metadata": {
    "colab": {
      "provenance": [],
      "authorship_tag": "ABX9TyPlIRuvXpQX99PWjx/FIpp7",
      "include_colab_link": true
    },
    "kernelspec": {
      "name": "python3",
      "display_name": "Python 3"
    },
    "language_info": {
      "name": "python"
    }
  },
  "cells": [
    {
      "cell_type": "markdown",
      "metadata": {
        "id": "view-in-github",
        "colab_type": "text"
      },
      "source": [
        "<a href=\"https://colab.research.google.com/github/VonRottweiler/Recidivism/blob/main/Convolution_Neural_Network_Model.v1.ipynb\" target=\"_parent\"><img src=\"https://colab.research.google.com/assets/colab-badge.svg\" alt=\"Open In Colab\"/></a>"
      ]
    },
    {
      "cell_type": "code",
      "execution_count": null,
      "metadata": {
        "id": "h3VJiMGRnLZK"
      },
      "outputs": [],
      "source": [
        "import tensorflow as tf\n",
        "from tensorflow import keras\n",
        "from keras import datasets, layers, models\n",
        "import matplotlib.pyplot as plt\n",
        "import numpy as np\n",
        "\n",
        "from sklearn.model_selection import train_test_split\n",
        "from keras.models import Sequential\n",
        "from keras.layers import Conv2D, MaxPooling2D, Flatten, Dense\n",
        "\n",
        "from keras.utils import to_categorical\n",
        "\n",
        "import pandas as pd\n",
        "import numpy as np\n",
        "import sklearn\n",
        "from sklearn.linear_model import LogisticRegression\n",
        "from sklearn.model_selection import train_test_split\n",
        "from sklearn.ensemble import RandomForestClassifier\n",
        "\n",
        "test = pd.read_csv('test.csv')\n",
        "\n",
        "data = pd.read_csv('train.csv')\n",
        "\n",
        "from sklearn.impute import SimpleImputer\n",
        "mean = SimpleImputer(strategy='mean')\n",
        "mode = SimpleImputer(strategy='most_frequent')\n",
        "\n",
        "from sklearn.preprocessing import LabelEncoder\n",
        "le = LabelEncoder()\n",
        "\n",
        "col = 0\n",
        "for col in range(1, len(data.columns)):\n",
        "  if (data[[data.columns[col]][0]].dtypes) == object:\n",
        "    mode.fit(data[[data.columns[col]]])\n",
        "    data[[data.columns[col]]] = mode.transform(data[[data.columns[col]]])\n",
        "    data[data.columns[col]] = le.fit_transform(data[data.columns[col]])\n",
        "  elif (data[[data.columns[col]][0]].dtypes) == float:\n",
        "    mean.fit(data[[data.columns[col]]])\n",
        "    data[[data.columns[col]]] = mean.transform(data[[data.columns[col]]])\n",
        "\n",
        "col = 0\n",
        "for col in range(1, len(test.columns)):\n",
        "  if (test[[test.columns[col]][0]].dtypes) == object:\n",
        "    mode.fit(test[[test.columns[col]]])\n",
        "    test[[test.columns[col]]] = mode.transform(test[[test.columns[col]]])\n",
        "    test[test.columns[col]] = le.fit_transform(test[test.columns[col]])\n",
        "  elif (test[[test.columns[col]][0]].dtypes) == float:\n",
        "    mean.fit(test[[test.columns[col]]])\n",
        "    test[[test.columns[col]]] = mean.transform(test[[test.columns[col]]])"
      ]
    },
    {
      "cell_type": "markdown",
      "source": [
        "Convolution Neural Network Training"
      ],
      "metadata": {
        "id": "geTNeqRenOv-"
      }
    },
    {
      "cell_type": "code",
      "source": [
        "features = data.drop('Recidivism_Arrest', axis=1).values\n",
        "labels = data['Recidivism_Arrest'].values\n",
        "\n",
        "features = features.reshape((9100, 48, 1))\n",
        "features = features.astype('float32') / 255\n",
        "labels = labels.reshape((9100, 1))\n",
        "labels = labels.astype('float32') / 255\n",
        "\n",
        "X_train, X_test, y_train, y_test= train_test_split(features, labels, test_size=0.2, random_state=42)"
      ],
      "metadata": {
        "id": "QvwT9PjjnSRq"
      },
      "execution_count": null,
      "outputs": []
    },
    {
      "cell_type": "code",
      "source": [
        "from keras import models\n",
        "from keras import layers\n",
        "\n",
        "model2 = models.Sequential([\n",
        "  layers.Conv1D(32, 3, activation='relu', input_shape=(48,1)),\n",
        "  layers.MaxPooling1D(2),\n",
        "  layers.Conv1D(64, 3, activation='relu'),\n",
        "  layers.MaxPooling1D(2),\n",
        "  layers.Conv1D(64, 3, activation='relu'),\n",
        "  layers.Flatten(),\n",
        "  layers.Dense(64, activation='relu'),\n",
        "  tf.keras.layers.BatchNormalization(),\n",
        "  layers.Dense(64, activation='relu'),\n",
        "  tf.keras.layers.BatchNormalization(),\n",
        "  layers.Dense(10)\n",
        "])"
      ],
      "metadata": {
        "id": "CsyZ0Cc7nhOd"
      },
      "execution_count": null,
      "outputs": []
    },
    {
      "cell_type": "code",
      "source": [
        "model2.compile(optimizer='adam',\n",
        "              loss=tf.keras.losses.SparseCategoricalCrossentropy(from_logits=True),\n",
        "              metrics=['accuracy'])"
      ],
      "metadata": {
        "id": "hI7GKeGsnjte"
      },
      "execution_count": null,
      "outputs": []
    },
    {
      "cell_type": "code",
      "source": [
        "model2.fit(X_train, y_train, epochs=10, batch_size = 128, validation_data=(X_test, y_test))"
      ],
      "metadata": {
        "id": "4OTYCC8wnk4j"
      },
      "execution_count": null,
      "outputs": []
    },
    {
      "cell_type": "code",
      "source": [
        "test_loss, test_acc = model2.evaluate(X_test, y_test)\n",
        "print(f\"The accuracy of the Convolutional Neural Network is: {test_acc}\")"
      ],
      "metadata": {
        "id": "LL26AvQfnmJc"
      },
      "execution_count": null,
      "outputs": []
    }
  ]
}