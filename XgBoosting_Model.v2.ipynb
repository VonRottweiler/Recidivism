{
  "cells": [
    {
      "cell_type": "markdown",
      "metadata": {
        "id": "view-in-github",
        "colab_type": "text"
      },
      "source": [
        "<a href=\"https://colab.research.google.com/github/VonRottweiler/Recidivism/blob/main/XgBoosting_Model.v2.ipynb\" target=\"_parent\"><img src=\"https://colab.research.google.com/assets/colab-badge.svg\" alt=\"Open In Colab\"/></a>"
      ]
    },
    {
      "cell_type": "code",
      "execution_count": 18,
      "metadata": {
        "id": "I9qqKVYfm0KC"
      },
      "outputs": [],
      "source": [
        "#lightgbm, catboost, datarobot\n",
        "\n",
        "import pandas as pd\n",
        "import numpy as np\n",
        "import sklearn\n",
        "from sklearn.linear_model import LogisticRegression\n",
        "from sklearn.model_selection import train_test_split\n",
        "from sklearn.ensemble import RandomForestClassifier\n",
        "\n",
        "test = pd.read_csv('test.csv')\n",
        "\n",
        "data = pd.read_csv('train.csv')\n",
        "\n",
        "from sklearn.impute import SimpleImputer\n",
        "mean = SimpleImputer(strategy='mean')\n",
        "mode = SimpleImputer(strategy='most_frequent')\n",
        "\n",
        "from sklearn.preprocessing import LabelEncoder\n",
        "le = LabelEncoder()\n",
        "\n",
        "col = 0\n",
        "for col in range(1, len(data.columns)):\n",
        "  if (data[[data.columns[col]][0]].dtypes) == object:\n",
        "    mode.fit(data[[data.columns[col]]])\n",
        "    data[[data.columns[col]]] = mode.transform(data[[data.columns[col]]])\n",
        "    data[data.columns[col]] = le.fit_transform(data[data.columns[col]])\n",
        "  elif (data[[data.columns[col]][0]].dtypes) == float:\n",
        "    mean.fit(data[[data.columns[col]]])\n",
        "    data[[data.columns[col]]] = mean.transform(data[[data.columns[col]]])\n",
        "\n",
        "col = 0\n",
        "for col in range(1, len(test.columns)):\n",
        "  if (test[[test.columns[col]][0]].dtypes) == object:\n",
        "    mode.fit(test[[test.columns[col]]])\n",
        "    test[[test.columns[col]]] = mode.transform(test[[test.columns[col]]])\n",
        "    test[test.columns[col]] = le.fit_transform(test[test.columns[col]])\n",
        "  elif (test[[test.columns[col]][0]].dtypes) == float:\n",
        "    mean.fit(test[[test.columns[col]]])\n",
        "    test[[test.columns[col]]] = mean.transform(test[[test.columns[col]]])"
      ]
    },
    {
      "cell_type": "markdown",
      "metadata": {
        "id": "KkYrebG3m2yJ"
      },
      "source": [
        "GxBoosting Training and Model Testing"
      ]
    },
    {
      "cell_type": "code",
      "execution_count": 13,
      "metadata": {
        "colab": {
          "base_uri": "https://localhost:8080/"
        },
        "id": "f7-nrnjhmxsu",
        "outputId": "16f96045-56a2-4928-bff8-92377a8b1e4f"
      },
      "outputs": [
        {
          "output_type": "stream",
          "name": "stdout",
          "text": [
            "Accuracy: 0.6802\n",
            "[500, 0.05, 8, 0.6802197802197802]\n",
            "Accuracy: 0.6868\n",
            "[500, 0.05, 9, 0.6868131868131868]\n",
            "Accuracy: 0.6885\n",
            "[600, 0.01, 9, 0.6884615384615385]\n"
          ]
        }
      ],
      "source": [
        "import xgboost as xgb\n",
        "from sklearn.model_selection import train_test_split\n",
        "from sklearn.metrics import accuracy_score\n",
        "\n",
        "X_train, X_test, y_train, y_test = train_test_split(data.drop('Recidivism_Arrest', axis=1), data['Recidivism_Arrest'], test_size=0.2, random_state=42)\n",
        "\n",
        "# Define the XGBoost model and set hyperparameters\n",
        "acc = 0\n",
        "eval_set = [(X_test, y_test)]\n",
        "for n_estimators in [500,600,700]: # these are just examples, need to expand this list in practice\n",
        "  for learning_rate in [.05,.01,.15]:\n",
        "    for max_depth in [8, 9, 10]:\n",
        "      model = xgb.XGBClassifier(objective='binary:logistic', learning_rate=learning_rate, max_depth=max_depth, n_estimators=n_estimators, subsample=0.8, colsample_bytree=0.8, seed=42, eval_metric=\"logloss\")\n",
        "      model.fit(X_train, y_train, eval_set=eval_set, verbose=False)\n",
        "\n",
        "      y_pred = model.predict(X_test)\n",
        "      acc_temp=sklearn.metrics.accuracy_score(y_test,y_pred)\n",
        "      if(acc_temp>acc):\n",
        "        acc=acc_temp\n",
        "        print('Accuracy: {:.4f}'.format(accuracy_score(y_test, y_pred)))\n",
        "        print([n_estimators,learning_rate,max_depth,acc])"
      ]
    },
    {
      "cell_type": "markdown",
      "metadata": {
        "id": "Cq3k_miGm7Yo"
      },
      "source": [
        "GxBoosting Test Data Predictions"
      ]
    },
    {
      "cell_type": "code",
      "execution_count": 19,
      "metadata": {
        "id": "HvswvkgWnBw6"
      },
      "outputs": [],
      "source": [
        "xgmodel = xgb.XGBClassifier(objective='binary:logistic', learning_rate=.01, max_depth=9, n_estimators=600, subsample=0.8, colsample_bytree=0.8, seed=42, eval_metric=\"logloss\")\n",
        "xgmodel.fit((data.drop('Recidivism_Arrest', axis=1)), data['Recidivism_Arrest'], verbose=False)\n",
        "\n",
        "y_pred = xgmodel.predict(test)\n",
        "test['Recidivism_Arrest']=y_pred\n",
        "test[['ID','Recidivism_Arrest']].to_csv('submission.gxboosting.csv',index=False)"
      ]
    },
    {
      "cell_type": "code",
      "execution_count": 15,
      "metadata": {
        "id": "SDYCKxwRnD6z",
        "colab": {
          "base_uri": "https://localhost:8080/"
        },
        "outputId": "21b01536-6e79-44af-bca3-920095d8cdd0"
      },
      "outputs": [
        {
          "output_type": "stream",
          "name": "stdout",
          "text": [
            "Mounted at /content/drive\n"
          ]
        }
      ],
      "source": [
        "from google.colab import drive\n",
        "drive.mount('/content/drive')"
      ]
    }
  ],
  "metadata": {
    "colab": {
      "provenance": [],
      "authorship_tag": "ABX9TyMCQHAhkT6DNgMS5L9Sd5Em",
      "include_colab_link": true
    },
    "kernelspec": {
      "display_name": "Python 3",
      "name": "python3"
    },
    "language_info": {
      "name": "python"
    }
  },
  "nbformat": 4,
  "nbformat_minor": 0
}