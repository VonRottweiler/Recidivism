{
  "nbformat": 4,
  "nbformat_minor": 0,
  "metadata": {
    "colab": {
      "provenance": [],
      "authorship_tag": "ABX9TyNsNKJsPUKzd3GK4iRNbLOn",
      "include_colab_link": true
    },
    "kernelspec": {
      "name": "python3",
      "display_name": "Python 3"
    },
    "language_info": {
      "name": "python"
    }
  },
  "cells": [
    {
      "cell_type": "markdown",
      "metadata": {
        "id": "view-in-github",
        "colab_type": "text"
      },
      "source": [
        "<a href=\"https://colab.research.google.com/github/VonRottweiler/Recidivism/blob/main/My_Kaggle_Competition.ipynb\" target=\"_parent\"><img src=\"https://colab.research.google.com/assets/colab-badge.svg\" alt=\"Open In Colab\"/></a>"
      ]
    },
    {
      "cell_type": "markdown",
      "source": [
        "Random Forest"
      ],
      "metadata": {
        "id": "JB_UCoEqaNgi"
      }
    },
    {
      "cell_type": "code",
      "execution_count": null,
      "metadata": {
        "id": "ZMQ-irodXBZh"
      },
      "outputs": [],
      "source": [
        "import pandas as pd\n",
        "import numpy as np\n",
        "import sklearn\n",
        "from sklearn.linear_model import LogisticRegression\n",
        "from sklearn.model_selection import train_test_split\n",
        "from sklearn.ensemble import RandomForestClassifier\n",
        "\n",
        "test = pd.read_csv('test.csv')\n",
        "\n",
        "data = pd.read_csv('train.csv')"
      ]
    },
    {
      "cell_type": "code",
      "source": [
        "#data.isna().sum()"
      ],
      "metadata": {
        "id": "J_b0oRhwabde"
      },
      "execution_count": null,
      "outputs": []
    },
    {
      "cell_type": "code",
      "source": [
        "from sklearn.impute import SimpleImputer\n",
        "mean = SimpleImputer(strategy='mean')\n",
        "mode = SimpleImputer(strategy='most_frequent')\n",
        "\n",
        "from sklearn.preprocessing import LabelEncoder\n",
        "le = LabelEncoder()"
      ],
      "metadata": {
        "id": "lrzi298xaxqd"
      },
      "execution_count": null,
      "outputs": []
    },
    {
      "cell_type": "code",
      "source": [
        "col = 0\n",
        "for col in range(1, len(data.columns)):\n",
        "  if (data[[data.columns[col]][0]].dtypes) == object:\n",
        "    mode.fit(data[[data.columns[col]]])\n",
        "    data[[data.columns[col]]] = mode.transform(data[[data.columns[col]]])\n",
        "    data[data.columns[col]] = le.fit_transform(data[data.columns[col]])\n",
        "  elif (data[[data.columns[col]][0]].dtypes) == float:\n",
        "    mean.fit(data[[data.columns[col]]])\n",
        "    data[[data.columns[col]]] = mean.transform(data[[data.columns[col]]])\n",
        "#data.head(16)"
      ],
      "metadata": {
        "id": "vteJQwEKa8QR"
      },
      "execution_count": null,
      "outputs": []
    },
    {
      "cell_type": "code",
      "source": [
        "col = 0\n",
        "for col in range(1, len(test.columns)):\n",
        "  if (test[[test.columns[col]][0]].dtypes) == object:\n",
        "    mode.fit(test[[test.columns[col]]])\n",
        "    test[[test.columns[col]]] = mode.transform(test[[test.columns[col]]])\n",
        "    test[test.columns[col]] = le.fit_transform(test[test.columns[col]])\n",
        "  elif (test[[test.columns[col]][0]].dtypes) == float:\n",
        "    mean.fit(test[[test.columns[col]]])\n",
        "    test[[test.columns[col]]] = mean.transform(test[[test.columns[col]]])"
      ],
      "metadata": {
        "id": "AiRYoS_ddTzH"
      },
      "execution_count": null,
      "outputs": []
    },
    {
      "cell_type": "code",
      "source": [
        "from sklearn.model_selection import train_test_split\n",
        "from sklearn.ensemble import RandomForestClassifier\n",
        "import sklearn\n",
        "\n",
        "train1, train2 = train_test_split(data, test_size=0.33, random_state=42)\n",
        "\n",
        "rfmodel = RandomForestClassifier(n_estimators=500, random_state=0)\n",
        "rfmodel.fit(train1[[\n",
        " 'Gender',\n",
        " 'Race',\n",
        " 'Age_at_Release',\n",
        " 'Residence_PUMA',\n",
        " 'Gang_Affiliated',\n",
        " 'Supervision_Risk_Score_First',\n",
        " 'Supervision_Level_First',\n",
        " 'Education_Level',\n",
        " 'Dependents',\n",
        " 'Prison_Offense',\n",
        " 'Prison_Years',\n",
        " 'Prior_Arrest_Episodes_Felony',\n",
        " 'Prior_Arrest_Episodes_Misd',\n",
        " 'Prior_Arrest_Episodes_Violent',\n",
        " 'Prior_Arrest_Episodes_Property',\n",
        " 'Prior_Arrest_Episodes_Drug',\n",
        " 'Prior_Arrest_Episodes_PPViolationCharges',\n",
        " 'Prior_Arrest_Episodes_DVCharges',\n",
        " 'Prior_Arrest_Episodes_GunCharges',\n",
        " 'Prior_Conviction_Episodes_Felony',\n",
        " 'Prior_Conviction_Episodes_Misd',\n",
        " 'Prior_Conviction_Episodes_Viol',\n",
        " 'Prior_Conviction_Episodes_Prop',\n",
        " 'Prior_Conviction_Episodes_Drug',\n",
        " 'Prior_Conviction_Episodes_PPViolationCharges',\n",
        " 'Prior_Conviction_Episodes_DomesticViolenceCharges',\n",
        " 'Prior_Conviction_Episodes_GunCharges',\n",
        " 'Prior_Revocations_Parole',\n",
        " 'Prior_Revocations_Probation',\n",
        " 'Condition_MH_SA',\n",
        " 'Condition_Cog_Ed',\n",
        " 'Condition_Other',\n",
        " 'Violations_ElectronicMonitoring',\n",
        " 'Violations_Instruction',\n",
        " 'Violations_FailToReport',\n",
        " 'Violations_MoveWithoutPermission',\n",
        " 'Delinquency_Reports',\n",
        " 'Program_Attendances',\n",
        " 'Program_UnexcusedAbsences',\n",
        " 'Residence_Changes',\n",
        " 'Avg_Days_per_DrugTest',\n",
        " 'DrugTests_THC_Positive',\n",
        " 'DrugTests_Cocaine_Positive',\n",
        " 'DrugTests_Meth_Positive',\n",
        " 'DrugTests_Other_Positive',\n",
        " 'Percent_Days_Employed',\n",
        " 'Jobs_Per_Year',\n",
        " 'Employment_Exempt']], \n",
        " train1['Recidivism_Arrest'])\n",
        "\n",
        "rf_prediction=rfmodel.predict(train2[[\n",
        " 'Gender',\n",
        " 'Race',\n",
        " 'Age_at_Release',\n",
        " 'Residence_PUMA',\n",
        " 'Gang_Affiliated',\n",
        " 'Supervision_Risk_Score_First',\n",
        " 'Supervision_Level_First',\n",
        " 'Education_Level',\n",
        " 'Dependents',\n",
        " 'Prison_Offense',\n",
        " 'Prison_Years',\n",
        " 'Prior_Arrest_Episodes_Felony',\n",
        " 'Prior_Arrest_Episodes_Misd',\n",
        " 'Prior_Arrest_Episodes_Violent',\n",
        " 'Prior_Arrest_Episodes_Property',\n",
        " 'Prior_Arrest_Episodes_Drug',\n",
        " 'Prior_Arrest_Episodes_PPViolationCharges',\n",
        " 'Prior_Arrest_Episodes_DVCharges',\n",
        " 'Prior_Arrest_Episodes_GunCharges',\n",
        " 'Prior_Conviction_Episodes_Felony',\n",
        " 'Prior_Conviction_Episodes_Misd',\n",
        " 'Prior_Conviction_Episodes_Viol',\n",
        " 'Prior_Conviction_Episodes_Prop',\n",
        " 'Prior_Conviction_Episodes_Drug',\n",
        " 'Prior_Conviction_Episodes_PPViolationCharges',\n",
        " 'Prior_Conviction_Episodes_DomesticViolenceCharges',\n",
        " 'Prior_Conviction_Episodes_GunCharges',\n",
        " 'Prior_Revocations_Parole',\n",
        " 'Prior_Revocations_Probation',\n",
        " 'Condition_MH_SA',\n",
        " 'Condition_Cog_Ed',\n",
        " 'Condition_Other',\n",
        " 'Violations_ElectronicMonitoring',\n",
        " 'Violations_Instruction',\n",
        " 'Violations_FailToReport',\n",
        " 'Violations_MoveWithoutPermission',\n",
        " 'Delinquency_Reports',\n",
        " 'Program_Attendances',\n",
        " 'Program_UnexcusedAbsences',\n",
        " 'Residence_Changes',\n",
        " 'Avg_Days_per_DrugTest',\n",
        " 'DrugTests_THC_Positive',\n",
        " 'DrugTests_Cocaine_Positive',\n",
        " 'DrugTests_Meth_Positive',\n",
        " 'DrugTests_Other_Positive',\n",
        " 'Percent_Days_Employed',\n",
        " 'Jobs_Per_Year',\n",
        " 'Employment_Exempt']])\n",
        "sklearn.metrics.accuracy_score(train2['Recidivism_Arrest'],rf_prediction)"
      ],
      "metadata": {
        "colab": {
          "base_uri": "https://localhost:8080/"
        },
        "id": "EQXrpdSPb4cd",
        "outputId": "2700765b-9eae-4b9d-a755-c24dd535ac2e"
      },
      "execution_count": null,
      "outputs": [
        {
          "output_type": "execute_result",
          "data": {
            "text/plain": [
              "0.6636696636696636"
            ]
          },
          "metadata": {},
          "execution_count": 23
        }
      ]
    },
    {
      "cell_type": "code",
      "source": [
        "rfmodel = RandomForestClassifier(n_estimators=500, random_state=0)\n",
        "rfmodel.fit(data[[\n",
        " 'Gender',\n",
        " 'Race',\n",
        " 'Age_at_Release',\n",
        " 'Residence_PUMA',\n",
        " 'Gang_Affiliated',\n",
        " 'Supervision_Risk_Score_First',\n",
        " 'Supervision_Level_First',\n",
        " 'Education_Level',\n",
        " 'Dependents',\n",
        " 'Prison_Offense',\n",
        " 'Prison_Years',\n",
        " 'Prior_Arrest_Episodes_Felony',\n",
        " 'Prior_Arrest_Episodes_Misd',\n",
        " 'Prior_Arrest_Episodes_Violent',\n",
        " 'Prior_Arrest_Episodes_Property',\n",
        " 'Prior_Arrest_Episodes_Drug',\n",
        " 'Prior_Arrest_Episodes_PPViolationCharges',\n",
        " 'Prior_Arrest_Episodes_DVCharges',\n",
        " 'Prior_Arrest_Episodes_GunCharges',\n",
        " 'Prior_Conviction_Episodes_Felony',\n",
        " 'Prior_Conviction_Episodes_Misd',\n",
        " 'Prior_Conviction_Episodes_Viol',\n",
        " 'Prior_Conviction_Episodes_Prop',\n",
        " 'Prior_Conviction_Episodes_Drug',\n",
        " 'Prior_Conviction_Episodes_PPViolationCharges',\n",
        " 'Prior_Conviction_Episodes_DomesticViolenceCharges',\n",
        " 'Prior_Conviction_Episodes_GunCharges',\n",
        " 'Prior_Revocations_Parole',\n",
        " 'Prior_Revocations_Probation',\n",
        " 'Condition_MH_SA',\n",
        " 'Condition_Cog_Ed',\n",
        " 'Condition_Other',\n",
        " 'Violations_ElectronicMonitoring',\n",
        " 'Violations_Instruction',\n",
        " 'Violations_FailToReport',\n",
        " 'Violations_MoveWithoutPermission',\n",
        " 'Delinquency_Reports',\n",
        " 'Program_Attendances',\n",
        " 'Program_UnexcusedAbsences',\n",
        " 'Residence_Changes',\n",
        " 'Avg_Days_per_DrugTest',\n",
        " 'DrugTests_THC_Positive',\n",
        " 'DrugTests_Cocaine_Positive',\n",
        " 'DrugTests_Meth_Positive',\n",
        " 'DrugTests_Other_Positive',\n",
        " 'Percent_Days_Employed',\n",
        " 'Jobs_Per_Year',\n",
        " 'Employment_Exempt']], data['Recidivism_Arrest'])\n",
        "\n",
        "test_prediction=rfmodel.predict(test[[\n",
        " 'Gender',\n",
        " 'Race',\n",
        " 'Age_at_Release',\n",
        " 'Residence_PUMA',\n",
        " 'Gang_Affiliated',\n",
        " 'Supervision_Risk_Score_First',\n",
        " 'Supervision_Level_First',\n",
        " 'Education_Level',\n",
        " 'Dependents',\n",
        " 'Prison_Offense',\n",
        " 'Prison_Years',\n",
        " 'Prior_Arrest_Episodes_Felony',\n",
        " 'Prior_Arrest_Episodes_Misd',\n",
        " 'Prior_Arrest_Episodes_Violent',\n",
        " 'Prior_Arrest_Episodes_Property',\n",
        " 'Prior_Arrest_Episodes_Drug',\n",
        " 'Prior_Arrest_Episodes_PPViolationCharges',\n",
        " 'Prior_Arrest_Episodes_DVCharges',\n",
        " 'Prior_Arrest_Episodes_GunCharges',\n",
        " 'Prior_Conviction_Episodes_Felony',\n",
        " 'Prior_Conviction_Episodes_Misd',\n",
        " 'Prior_Conviction_Episodes_Viol',\n",
        " 'Prior_Conviction_Episodes_Prop',\n",
        " 'Prior_Conviction_Episodes_Drug',\n",
        " 'Prior_Conviction_Episodes_PPViolationCharges',\n",
        " 'Prior_Conviction_Episodes_DomesticViolenceCharges',\n",
        " 'Prior_Conviction_Episodes_GunCharges',\n",
        " 'Prior_Revocations_Parole',\n",
        " 'Prior_Revocations_Probation',\n",
        " 'Condition_MH_SA',\n",
        " 'Condition_Cog_Ed',\n",
        " 'Condition_Other',\n",
        " 'Violations_ElectronicMonitoring',\n",
        " 'Violations_Instruction',\n",
        " 'Violations_FailToReport',\n",
        " 'Violations_MoveWithoutPermission',\n",
        " 'Delinquency_Reports',\n",
        " 'Program_Attendances',\n",
        " 'Program_UnexcusedAbsences',\n",
        " 'Residence_Changes',\n",
        " 'Avg_Days_per_DrugTest',\n",
        " 'DrugTests_THC_Positive',\n",
        " 'DrugTests_Cocaine_Positive',\n",
        " 'DrugTests_Meth_Positive',\n",
        " 'DrugTests_Other_Positive',\n",
        " 'Percent_Days_Employed',\n",
        " 'Jobs_Per_Year',\n",
        " 'Employment_Exempt']])\n",
        "test['Recidivism_Arrest']=test_prediction\n",
        "#test[['ID','Recidivism_Arrest']].to_csv('submission.random_forest.csv',index=False)"
      ],
      "metadata": {
        "id": "COo2T-dNcy_P"
      },
      "execution_count": null,
      "outputs": []
    },
    {
      "cell_type": "code",
      "source": [
        "#from google.colab import drive\n",
        "#drive.mount('/content/drive')"
      ],
      "metadata": {
        "colab": {
          "base_uri": "https://localhost:8080/"
        },
        "id": "Zl65DgsYcwda",
        "outputId": "7e291f3a-023f-4d04-b2f5-21eaf77eb119"
      },
      "execution_count": null,
      "outputs": [
        {
          "output_type": "stream",
          "name": "stdout",
          "text": [
            "Mounted at /content/drive\n"
          ]
        }
      ]
    },
    {
      "cell_type": "markdown",
      "source": [
        "Boosting Training Test Accuracy"
      ],
      "metadata": {
        "id": "5Kf4uqQDpT5a"
      }
    },
    {
      "cell_type": "code",
      "source": [
        "from sklearn.ensemble import GradientBoostingClassifier\n",
        "\n",
        "train1, train2 = train_test_split(data, test_size=0.33, random_state=42)\n",
        "\n",
        "acc=0\n",
        "n_estimators=200\n",
        "learning_rate=.3\n",
        "max_depth=10\n",
        "#for n_estimators in [100,200,300,400,500]: # these are just examples, need to expand this list in practice\n",
        "  #for learning_rate in [.1,.2,.3,.4,.5]:\n",
        "   # for max_depth in [1,2,3,4,5]:\n",
        "gbmodel = GradientBoostingClassifier(n_estimators=n_estimators, learning_rate=learning_rate,max_depth=max_depth, random_state=0).fit(train1[[\n",
        "    'Gender',\n",
        "    'Race',\n",
        "    'Age_at_Release',\n",
        "    'Residence_PUMA',\n",
        "    'Gang_Affiliated',\n",
        "    'Supervision_Risk_Score_First',\n",
        "    'Supervision_Level_First',\n",
        "    'Education_Level',\n",
        "    'Dependents',\n",
        "    'Prison_Offense',\n",
        "    'Prison_Years',\n",
        "    'Prior_Arrest_Episodes_Felony',\n",
        "    'Prior_Arrest_Episodes_Misd',\n",
        "    'Prior_Arrest_Episodes_Violent',\n",
        "    'Prior_Arrest_Episodes_Property',\n",
        "    'Prior_Arrest_Episodes_Drug',\n",
        "    'Prior_Arrest_Episodes_PPViolationCharges',\n",
        "    'Prior_Arrest_Episodes_DVCharges',\n",
        "    'Prior_Arrest_Episodes_GunCharges',\n",
        "    'Prior_Conviction_Episodes_Felony',\n",
        "    'Prior_Conviction_Episodes_Misd',\n",
        "    'Prior_Conviction_Episodes_Viol',\n",
        "    'Prior_Conviction_Episodes_Prop',\n",
        "    'Prior_Conviction_Episodes_Drug',\n",
        "    'Prior_Conviction_Episodes_PPViolationCharges',\n",
        "    'Prior_Conviction_Episodes_DomesticViolenceCharges',\n",
        "    'Prior_Conviction_Episodes_GunCharges',\n",
        "    'Prior_Revocations_Parole',\n",
        "    'Prior_Revocations_Probation',\n",
        "    'Condition_MH_SA',\n",
        "    'Condition_Cog_Ed',\n",
        "    'Condition_Other',\n",
        "    'Violations_ElectronicMonitoring',\n",
        "    'Violations_Instruction',\n",
        "    'Violations_FailToReport',\n",
        "    'Violations_MoveWithoutPermission',\n",
        "    'Delinquency_Reports',\n",
        "    'Program_Attendances',\n",
        "    'Program_UnexcusedAbsences',\n",
        "    'Residence_Changes',\n",
        "    'Avg_Days_per_DrugTest',\n",
        "    'DrugTests_THC_Positive',\n",
        "    'DrugTests_Cocaine_Positive',\n",
        "    'DrugTests_Meth_Positive',\n",
        "    'DrugTests_Other_Positive',\n",
        "    'Percent_Days_Employed',\n",
        "    'Jobs_Per_Year',\n",
        "    'Employment_Exempt']], train1['Recidivism_Arrest'])\n",
        "\n",
        "gb_prediction=gbmodel.predict(train2[[\n",
        "          'Gender',\n",
        "          'Race',\n",
        "          'Age_at_Release',\n",
        "          'Residence_PUMA',\n",
        "          'Gang_Affiliated',\n",
        "          'Supervision_Risk_Score_First',\n",
        "          'Supervision_Level_First',\n",
        "          'Education_Level',\n",
        "          'Dependents',\n",
        "          'Prison_Offense',\n",
        "          'Prison_Years',\n",
        "          'Prior_Arrest_Episodes_Felony',\n",
        "          'Prior_Arrest_Episodes_Misd',\n",
        "          'Prior_Arrest_Episodes_Violent',\n",
        "          'Prior_Arrest_Episodes_Property',\n",
        "          'Prior_Arrest_Episodes_Drug',\n",
        "          'Prior_Arrest_Episodes_PPViolationCharges',\n",
        "          'Prior_Arrest_Episodes_DVCharges',\n",
        "          'Prior_Arrest_Episodes_GunCharges',\n",
        "          'Prior_Conviction_Episodes_Felony',\n",
        "          'Prior_Conviction_Episodes_Misd',\n",
        "          'Prior_Conviction_Episodes_Viol',\n",
        "          'Prior_Conviction_Episodes_Prop',\n",
        "          'Prior_Conviction_Episodes_Drug',\n",
        "          'Prior_Conviction_Episodes_PPViolationCharges',\n",
        "          'Prior_Conviction_Episodes_DomesticViolenceCharges',\n",
        "          'Prior_Conviction_Episodes_GunCharges',\n",
        "          'Prior_Revocations_Parole',\n",
        "          'Prior_Revocations_Probation',\n",
        "          'Condition_MH_SA',\n",
        "          'Condition_Cog_Ed',\n",
        "          'Condition_Other',\n",
        "          'Violations_ElectronicMonitoring',\n",
        "          'Violations_Instruction',\n",
        "          'Violations_FailToReport',\n",
        "          'Violations_MoveWithoutPermission',\n",
        "          'Delinquency_Reports',\n",
        "          'Program_Attendances',\n",
        "          'Program_UnexcusedAbsences',\n",
        "          'Residence_Changes',\n",
        "          'Avg_Days_per_DrugTest',\n",
        "          'DrugTests_THC_Positive',\n",
        "          'DrugTests_Cocaine_Positive',\n",
        "          'DrugTests_Meth_Positive',\n",
        "          'DrugTests_Other_Positive',\n",
        "          'Percent_Days_Employed',\n",
        "          'Jobs_Per_Year',\n",
        "          'Employment_Exempt']])\n",
        "acc_temp=sklearn.metrics.accuracy_score(train2['Recidivism_Arrest'], gb_prediction)\n",
        "\"\"\"if(acc_temp>acc):\n",
        "    acc=acc_temp\n",
        "    print([n_estimators,learning_rate,max_depth,acc])\"\"\"\n",
        "print([n_estimators,learning_rate,max_depth,acc_temp])"
      ],
      "metadata": {
        "colab": {
          "base_uri": "https://localhost:8080/"
        },
        "id": "UrPZ76tur_6d",
        "outputId": "14e01073-0d97-4247-bc32-74387d7cec89"
      },
      "execution_count": null,
      "outputs": [
        {
          "metadata": {
            "tags": null
          },
          "name": "stdout",
          "output_type": "stream",
          "text": [
            "[200, 0.3, 10, 0.6693306693306693]\n"
          ]
        }
      ]
    },
    {
      "cell_type": "markdown",
      "source": [
        "Boosting Test\n"
      ],
      "metadata": {
        "id": "HzQgjy7msIqx"
      }
    },
    {
      "cell_type": "code",
      "source": [
        "from sklearn.ensemble import GradientBoostingClassifier\n",
        "acc=0\n",
        "for n_estimators in [100,200,300,400,500]: # these are just examples, need to expand this list in practice\n",
        "  for learning_rate in [.1,.2,.3,.4,.5]:\n",
        "    for max_depth in [1,2,3,4,5]:\n",
        "      gbmodel = GradientBoostingClassifier(n_estimators=n_estimators, learning_rate=learning_rate,max_depth=max_depth, random_state=0).fit(data[[\n",
        "          'Gender',\n",
        "          'Race',\n",
        "          'Age_at_Release',\n",
        "          'Residence_PUMA',\n",
        "          'Gang_Affiliated',\n",
        "          'Supervision_Risk_Score_First',\n",
        "          'Supervision_Level_First',\n",
        "          'Education_Level',\n",
        "          'Dependents',\n",
        "          'Prison_Offense',\n",
        "          'Prison_Years',\n",
        "          'Prior_Arrest_Episodes_Felony',\n",
        "          'Prior_Arrest_Episodes_Misd',\n",
        "          'Prior_Arrest_Episodes_Violent',\n",
        "          'Prior_Arrest_Episodes_Property',\n",
        "          'Prior_Arrest_Episodes_Drug',\n",
        "          'Prior_Arrest_Episodes_PPViolationCharges',\n",
        "          'Prior_Arrest_Episodes_DVCharges',\n",
        "          'Prior_Arrest_Episodes_GunCharges',\n",
        "          'Prior_Conviction_Episodes_Felony',\n",
        "          'Prior_Conviction_Episodes_Misd',\n",
        "          'Prior_Conviction_Episodes_Viol',\n",
        "          'Prior_Conviction_Episodes_Prop',\n",
        "          'Prior_Conviction_Episodes_Drug',\n",
        "          'Prior_Conviction_Episodes_PPViolationCharges',\n",
        "          'Prior_Conviction_Episodes_DomesticViolenceCharges',\n",
        "          'Prior_Conviction_Episodes_GunCharges',\n",
        "          'Prior_Revocations_Parole',\n",
        "          'Prior_Revocations_Probation',\n",
        "          'Condition_MH_SA',\n",
        "          'Condition_Cog_Ed',\n",
        "          'Condition_Other',\n",
        "          'Violations_ElectronicMonitoring',\n",
        "          'Violations_Instruction',\n",
        "          'Violations_FailToReport',\n",
        "          'Violations_MoveWithoutPermission',\n",
        "          'Delinquency_Reports',\n",
        "          'Program_Attendances',\n",
        "          'Program_UnexcusedAbsences',\n",
        "          'Residence_Changes',\n",
        "          'Avg_Days_per_DrugTest',\n",
        "          'DrugTests_THC_Positive',\n",
        "          'DrugTests_Cocaine_Positive',\n",
        "          'DrugTests_Meth_Positive',\n",
        "          'DrugTests_Other_Positive',\n",
        "          'Percent_Days_Employed',\n",
        "          'Jobs_Per_Year',\n",
        "          'Employment_Exempt']], data['Recidivism_Arrest'])\n",
        "\n",
        "gb_prediction=gbmodel.predict(test[[\n",
        "    'Gender',\n",
        "    'Race',\n",
        "    'Age_at_Release',\n",
        "    'Residence_PUMA',\n",
        "    'Gang_Affiliated',\n",
        "    'Supervision_Risk_Score_First',\n",
        "    'Supervision_Level_First',\n",
        "    'Education_Level',\n",
        "    'Dependents',\n",
        "    'Prison_Offense',\n",
        "    'Prison_Years',\n",
        "    'Prior_Arrest_Episodes_Felony',\n",
        "    'Prior_Arrest_Episodes_Misd',\n",
        "    'Prior_Arrest_Episodes_Violent',\n",
        "    'Prior_Arrest_Episodes_Property',\n",
        "    'Prior_Arrest_Episodes_Drug',\n",
        "    'Prior_Arrest_Episodes_PPViolationCharges',\n",
        "    'Prior_Arrest_Episodes_DVCharges',\n",
        "    'Prior_Arrest_Episodes_GunCharges',\n",
        "    'Prior_Conviction_Episodes_Felony',\n",
        "    'Prior_Conviction_Episodes_Misd',\n",
        "    'Prior_Conviction_Episodes_Viol',\n",
        "    'Prior_Conviction_Episodes_Prop',\n",
        "    'Prior_Conviction_Episodes_Drug',\n",
        "    'Prior_Conviction_Episodes_PPViolationCharges',\n",
        "    'Prior_Conviction_Episodes_DomesticViolenceCharges',\n",
        "    'Prior_Conviction_Episodes_GunCharges',\n",
        "    'Prior_Revocations_Parole',\n",
        "    'Prior_Revocations_Probation',\n",
        "    'Condition_MH_SA',\n",
        "    'Condition_Cog_Ed',\n",
        "    'Condition_Other',\n",
        "    'Violations_ElectronicMonitoring',\n",
        "    'Violations_Instruction',\n",
        "    'Violations_FailToReport',\n",
        "    'Violations_MoveWithoutPermission',\n",
        "    'Delinquency_Reports',\n",
        "    'Program_Attendances',\n",
        "    'Program_UnexcusedAbsences',\n",
        "    'Residence_Changes',\n",
        "    'Avg_Days_per_DrugTest',\n",
        "    'DrugTests_THC_Positive',\n",
        "    'DrugTests_Cocaine_Positive',\n",
        "    'DrugTests_Meth_Positive',\n",
        "    'DrugTests_Other_Positive',\n",
        "    'Percent_Days_Employed',\n",
        "    'Jobs_Per_Year',\n",
        "    'Employment_Exempt']])\n",
        "test['Recidivism_Arrest']=gb_prediction\n",
        "#test[['ID','Recidivism_Arrest']].to_csv('submission.boosting.csv',index=False)\n"
      ],
      "metadata": {
        "id": "wPeyhAnSpVmy"
      },
      "execution_count": null,
      "outputs": []
    },
    {
      "cell_type": "code",
      "source": [
        "#from google.colab import drive\n",
        "#drive.mount('/content/drive')"
      ],
      "metadata": {
        "colab": {
          "base_uri": "https://localhost:8080/"
        },
        "id": "AveFrzYKp8s5",
        "outputId": "2e2ede03-c868-4d9b-f438-e0471c0b2707"
      },
      "execution_count": null,
      "outputs": [
        {
          "output_type": "stream",
          "name": "stdout",
          "text": [
            "Drive already mounted at /content/drive; to attempt to forcibly remount, call drive.mount(\"/content/drive\", force_remount=True).\n"
          ]
        }
      ]
    },
    {
      "cell_type": "markdown",
      "source": [
        "Convolution Nueral Network"
      ],
      "metadata": {
        "id": "XxXEdmyvfMj9"
      }
    },
    {
      "cell_type": "code",
      "source": [],
      "metadata": {
        "id": "Yg_ifkE8dJ-u"
      },
      "execution_count": null,
      "outputs": []
    }
  ]
}